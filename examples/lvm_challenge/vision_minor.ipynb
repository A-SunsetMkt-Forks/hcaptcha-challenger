{
 "cells": [
  {
   "cell_type": "code",
   "execution_count": null,
   "id": "initial_id",
   "metadata": {
    "collapsed": true,
    "is_executing": true
   },
   "outputs": [],
   "source": [
    "# open ../../../static/img/brand/wordmark.png as base64 str\n",
    "import base64\n",
    "from pathlib import Path\n",
    "\n",
    "from IPython.display import HTML\n",
    "\n",
    "img_path = Path(\"../../../static/img/brand/wordmark.png\")\n",
    "img_base64 = base64.b64encode(img_path.read_bytes()).decode(\"utf-8\")\n",
    "\n",
    "# display b64 image in notebook\n",
    "HTML(f'<img src=\"data:image/png;base64,{img_base64}\">')"
   ]
  }
 ],
 "metadata": {
  "kernelspec": {
   "display_name": "Python 3",
   "language": "python",
   "name": "python3"
  },
  "language_info": {
   "codemirror_mode": {
    "name": "ipython",
    "version": 2
   },
   "file_extension": ".py",
   "mimetype": "text/x-python",
   "name": "python",
   "nbconvert_exporter": "python",
   "pygments_lexer": "ipython2",
   "version": "2.7.6"
  }
 },
 "nbformat": 4,
 "nbformat_minor": 5
}
